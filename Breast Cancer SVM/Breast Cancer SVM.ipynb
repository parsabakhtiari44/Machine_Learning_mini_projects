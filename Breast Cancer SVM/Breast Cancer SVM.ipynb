{
 "cells": [
  {
   "attachments": {},
   "cell_type": "markdown",
   "id": "f12c3d1c",
   "metadata": {},
   "source": [
    "<div dir=rtl align=center>\n",
    "\n",
    "<img src='https://upload.wikimedia.org/wikipedia/fa/thumb/a/a9/Sharif_logo.svg/626px-Sharif_logo.svg.png?20110526112825' alt=\"SUT logo\" width=200 height=200 align=center  >\n",
    "<br>\n",
    "<font face=\"B Yekan\">\n",
    "<font color=0F5298 size=7>\n",
    "یادگیری ماشین<br>\n",
    "<font color=2565AE size=5>\n",
    "دانشکده مهندسی صنایع<br>\n",
    "<font color=2565AE size=4>\n",
    "دکتر مهدی شریف زاده <br>\n",
    "<font color=2565AE size=4>\n",
    "محمدتقی دهقان نژاد <br>\n",
    "بهار 1402<br>\n",
    "\n",
    "<font color=3C99D size=5>\n",
    "تمرین عملی 2\n",
    "<br>\n",
    "SVM \n",
    "<br>\n",
    "100 نمره\n",
    "    \n",
    "    \n",
    "____\n"
   ]
  },
  {
   "attachments": {},
   "cell_type": "markdown",
   "id": "11f35f65",
   "metadata": {},
   "source": [
    "### Full Name : Parsa Bakhtiari\n",
    "\n",
    "### Student Number : 97104118\n",
    "\n"
   ]
  },
  {
   "cell_type": "code",
   "execution_count": 8,
   "id": "c02ff1c7",
   "metadata": {},
   "outputs": [],
   "source": [
    "from sklearn.svm import SVC\n",
    "from sklearn.svm import LinearSVC\n",
    "import numpy as np\n",
    "import matplotlib.pyplot as plt\n",
    "import pandas as pd\n",
    "from sklearn.model_selection import train_test_split\n",
    "from sklearn.pipeline import Pipeline\n",
    "from sklearn.preprocessing import StandardScaler\n",
    "from sklearn.metrics import accuracy_score\n",
    "from sklearn.model_selection import GridSearchCV"
   ]
  },
  {
   "attachments": {},
   "cell_type": "markdown",
   "id": "4716f54e",
   "metadata": {},
   "source": [
    "# Load data"
   ]
  },
  {
   "attachments": {},
   "cell_type": "markdown",
   "id": "02fbcab0",
   "metadata": {},
   "source": [
    "Load the breast cancer dataset from scikit-learn using the following code:\n"
   ]
  },
  {
   "cell_type": "code",
   "execution_count": 2,
   "id": "6bdcbe2b",
   "metadata": {},
   "outputs": [],
   "source": [
    "from sklearn.datasets import load_breast_cancer\n",
    "data = load_breast_cancer()\n",
    "df_base = pd.DataFrame(data.data, columns=data.feature_names)\n",
    "df_base['target'] = pd.Series(data.target)"
   ]
  },
  {
   "attachments": {},
   "cell_type": "markdown",
   "id": "bdfec078",
   "metadata": {},
   "source": [
    "# A. Data Splitting (5 points)"
   ]
  },
  {
   "attachments": {},
   "cell_type": "markdown",
   "id": "53d1993c",
   "metadata": {},
   "source": [
    "Split the dataset into training and testing sets using a 70/30 split.\n"
   ]
  },
  {
   "cell_type": "code",
   "execution_count": 13,
   "id": "af279bad",
   "metadata": {},
   "outputs": [],
   "source": [
    "train_set, test_set = train_test_split(df_base, test_size=0.3, random_state=42)\n",
    "train_y = train_set['target']\n",
    "train_x = train_set.drop(['target'], axis=1)\n",
    "test_y = test_set['target']\n",
    "test_x = test_set.drop(['target'], axis=1)\n",
    "scaler = StandardScaler()\n",
    "train_x_scaled = scaler.fit_transform(train_x)\n",
    "test_x_scaled = scaler.fit_transform(test_x)"
   ]
  },
  {
   "attachments": {},
   "cell_type": "markdown",
   "id": "4dc3034b",
   "metadata": {},
   "source": [
    "# B. Linear SVC Model (15 points)"
   ]
  },
  {
   "attachments": {},
   "cell_type": "markdown",
   "id": "222560b2",
   "metadata": {},
   "source": [
    "Implement a linear SVM classifier using scikit-learn's LinearSVC. Train the classifier on the training set and evaluate its accuracy on the testing set. {15 points}\n"
   ]
  },
  {
   "cell_type": "code",
   "execution_count": 18,
   "id": "034ec7cc",
   "metadata": {},
   "outputs": [
    {
     "name": "stdout",
     "output_type": "stream",
     "text": [
      "train:  0.9773869346733668\n",
      "test:  0.9883040935672515\n"
     ]
    }
   ],
   "source": [
    "\n",
    "linear_svc = Pipeline([\n",
    "    ('Scaler', StandardScaler()),\n",
    "    ('LinearSVC', LinearSVC(C=0.01, loss='hinge'))\n",
    "])\n",
    "linear_svc.fit(train_x, train_y)   \n",
    "accuracy = accuracy_score(test_y, linear_svc.predict(test_x))\n",
    "print(\"train: \",accuracy_score(train_y, linear_svc.predict(train_x)))\n",
    "print(\"test: \",accuracy)\n"
   ]
  },
  {
   "attachments": {},
   "cell_type": "markdown",
   "id": "40c97e14",
   "metadata": {},
   "source": [
    "# C. RBF Kernel SVM (15 points)"
   ]
  },
  {
   "attachments": {},
   "cell_type": "markdown",
   "id": "e2fe4dc0",
   "metadata": {},
   "source": [
    "Implement a kernel SVM classifier using scikit-learn's SVC with the RBF kernel. Train the classifier on the training set and evaluate its accuracy on the testing set. Experiment with different values of the gamma parameter to see how it affects the performance of the classifier. {15 points}"
   ]
  },
  {
   "cell_type": "code",
   "execution_count": 20,
   "id": "0ebf87f5",
   "metadata": {},
   "outputs": [
    {
     "name": "stdout",
     "output_type": "stream",
     "text": [
      "Best gamma = SVC(gamma=0.01)\n",
      "Train accuracy:  0.9698492462311558\n",
      "Accuracy = 0.9766081871345029\n"
     ]
    }
   ],
   "source": [
    "gamma_range = np.logspace(-3, 3, num=7)\n",
    "param_grid = {'gamma': gamma_range}\n",
    "# rbf_svc = Pipeline([\n",
    "#     ('Scaler', StandardScaler()),\n",
    "#     ('svm_rbf', SVC(kernel='rbf'))\n",
    "# ])\n",
    "# rbf_svc.fit(train_x, train_y)\n",
    "\n",
    "rbf_svc = SVC(kernel='rbf')\n",
    "grid_search = GridSearchCV(rbf_svc, param_grid, cv=5)\n",
    "grid_search.fit(train_x_scaled, train_y)\n",
    "accuracy = accuracy_score(test_y, grid_search.predict(test_x_scaled))\n",
    "print(f\"Best gamma = {grid_search.best_estimator_}\")\n",
    "print(\"Train accuracy: \",accuracy_score(train_y, grid_search.predict(train_x_scaled)))\n",
    "print(f\"Accuracy = {accuracy}\")"
   ]
  },
  {
   "attachments": {},
   "cell_type": "markdown",
   "id": "bed64106",
   "metadata": {},
   "source": [
    "# D. Polynomial Kernel SVM (15 points)"
   ]
  },
  {
   "attachments": {},
   "cell_type": "markdown",
   "id": "d86f9a91",
   "metadata": {},
   "source": [
    "Implement a kernel SVM classifier using scikit-learn's SVC with the polynomial kernel. Train the classifier on the training set and evaluate its accuracy on the testing set. Experiment with different values of the degree and coef0 parameters to see how they affect the performance of the classifier. {15 points}"
   ]
  },
  {
   "cell_type": "code",
   "execution_count": 21,
   "id": "bffe73a8",
   "metadata": {
    "scrolled": true
   },
   "outputs": [
    {
     "name": "stdout",
     "output_type": "stream",
     "text": [
      "Best params = SVC(coef0=1.0, degree=4, kernel='poly')\n",
      "Train accuracy:  0.992462311557789\n",
      "Accuracy = 0.9824561403508771\n"
     ]
    }
   ],
   "source": [
    "# poly_svc = Pipeline([\n",
    "#     ('Scaler', StandardScaler()),\n",
    "#     ('svm_poly', SVC(kernel='poly', C=5, degree=2, coef0=1))\n",
    "# ])\n",
    "# poly_svc.fit(train_x, train_y)\n",
    "# accuracy = accuracy_score(test_y, poly_svc.predict(test_x))\n",
    "param_grid = {\n",
    "    'degree': [2, 3, 4, 5, 6, 7],\n",
    "    'coef0': [0.0, 0.25, 0.5, 0.75, 1.0]\n",
    "}\n",
    "poly_svc = SVC(kernel='poly')\n",
    "grid_search = GridSearchCV(poly_svc, param_grid, cv=5)\n",
    "grid_search.fit(train_x_scaled, train_y)\n",
    "accuracy = accuracy_score(test_y, grid_search.predict(test_x_scaled))\n",
    "print(f\"Best params = {grid_search.best_estimator_}\")\n",
    "print(\"Train accuracy: \",accuracy_score(train_y, grid_search.predict(train_x_scaled)))\n",
    "print(f\"Accuracy = {accuracy}\")\n"
   ]
  },
  {
   "attachments": {},
   "cell_type": "markdown",
   "id": "7a5a09c4",
   "metadata": {},
   "source": [
    "# E. Comparison (25 points)"
   ]
  },
  {
   "attachments": {},
   "cell_type": "markdown",
   "id": "4559d8b5",
   "metadata": {},
   "source": [
    "Compare the accuracy of the three classifiers implemented in questions 2, 3, and 4. Which classifier performed better and why?(There is no need to code, explain in text **completely**) {25 points}\n"
   ]
  },
  {
   "attachments": {},
   "cell_type": "markdown",
   "id": "eea4dc04",
   "metadata": {},
   "source": [
    "accuracy of 2: 0.9883040935672515\n",
    "\n",
    "accuracy of 3: 0.9766081871345029\n",
    "\n",
    "accuracy of 4: 0.9824561403508771\n",
    "\n",
    "comparing: it seems Linear SVC predicts test sets more accurately than SVM with poly and RBF kernels. This could have multiple reasons. However, in some cases, a linear boundary may be sufficient to separate the data points. Generally, this occurs when a straight line or a plane can easily separate the data. As a result, a linear classifier like LinearSVC can achieve high accuracy. In such cases, polynominal or rbf kernels can overfit the model and linear models can take over the performance of the model."
   ]
  },
  {
   "attachments": {},
   "cell_type": "markdown",
   "id": "f1aa9fc2",
   "metadata": {},
   "source": [
    "# F. Decision Boundary Visualization (25 points)"
   ]
  },
  {
   "attachments": {},
   "cell_type": "markdown",
   "id": "43d2ed24",
   "metadata": {},
   "source": [
    "Visualize the decision boundaries for the classifiers implemented in questions 2, 3, and 4 using matplotlib. Plot the training and testing data as well. {25 points}\n"
   ]
  },
  {
   "cell_type": "code",
   "execution_count": 7,
   "id": "9639ddf0",
   "metadata": {},
   "outputs": [
    {
     "ename": "NameError",
     "evalue": "name 'X_train' is not defined",
     "output_type": "error",
     "traceback": [
      "\u001b[1;31m---------------------------------------------------------------------------\u001b[0m",
      "\u001b[1;31mNameError\u001b[0m                                 Traceback (most recent call last)",
      "Cell \u001b[1;32mIn[7], line 2\u001b[0m\n\u001b[0;32m      1\u001b[0m \u001b[39m# Plot decision boundaries for linear SVM classifier (question 2)\u001b[39;00m\n\u001b[1;32m----> 2\u001b[0m linear_svc\u001b[39m.\u001b[39mfit(X_train[:, :\u001b[39m2\u001b[39m], y_train)  \u001b[39m# only using first two features for visualization\u001b[39;00m\n\u001b[0;32m      3\u001b[0m \u001b[39m#TODO\u001b[39;00m\n\u001b[0;32m      4\u001b[0m plt\u001b[39m.\u001b[39mxlabel(\u001b[39m'\u001b[39m\u001b[39mFeature 1\u001b[39m\u001b[39m'\u001b[39m)\n",
      "\u001b[1;31mNameError\u001b[0m: name 'X_train' is not defined"
     ]
    }
   ],
   "source": [
    "\n",
    "\n",
    "# Plot decision boundaries for linear SVM classifier (question 2)\n",
    "linear_svc.fit(X_train[:, :2], y_train)  # only using first two features for visualization\n",
    "#TODO\n",
    "plt.xlabel('Feature 1')\n",
    "plt.ylabel('Feature 2')\n",
    "plt.title('Linear SVM Decision Boundary')\n",
    "plt.show()\n",
    "\n",
    "# Plot decision boundaries for RBF kernel SVM classifier (question 3)\n",
    "rbf_svc.fit(X_train[:, :2], y_train)  # only using first two features for visualization\n",
    "#TODO\n",
    "plt.xlabel('Feature 1')\n",
    "plt.ylabel('Feature 2')\n",
    "plt.title('RBF SVM Decision Boundary')\n",
    "plt.show()\n",
    "\n",
    "# Plot decision boundaries for polynomial kernel SVM classifier (question 4)\n",
    "poly_svc.fit(X_train[:, :2], y_train)  # only using first two features for visualization\n",
    "#TODO\n",
    "plt.xlabel('Feature 1')\n",
    "plt.ylabel('Feature 2')\n",
    "plt.title('Polynomial SVM Decision Boundary')\n",
    "plt.show()\n"
   ]
  }
 ],
 "metadata": {
  "kernelspec": {
   "display_name": "Python 3 (ipykernel)",
   "language": "python",
   "name": "python3"
  },
  "language_info": {
   "codemirror_mode": {
    "name": "ipython",
    "version": 3
   },
   "file_extension": ".py",
   "mimetype": "text/x-python",
   "name": "python",
   "nbconvert_exporter": "python",
   "pygments_lexer": "ipython3",
   "version": "3.10.5"
  }
 },
 "nbformat": 4,
 "nbformat_minor": 5
}
