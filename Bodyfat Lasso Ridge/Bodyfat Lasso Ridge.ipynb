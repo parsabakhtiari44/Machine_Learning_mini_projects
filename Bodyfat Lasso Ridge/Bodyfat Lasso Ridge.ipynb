{
 "cells": [
  {
   "attachments": {},
   "cell_type": "markdown",
   "id": "5902c1f3",
   "metadata": {},
   "source": [
    "<div dir=rtl align=center>\n",
    "\n",
    "<img src='https://upload.wikimedia.org/wikipedia/fa/thumb/a/a9/Sharif_logo.svg/626px-Sharif_logo.svg.png?20110526112825' alt=\"SUT logo\" width=200 height=200 align=center  >\n",
    "<br>\n",
    "<font face=\"B Yekan\">\n",
    "<font color=0F5298 size=7>\n",
    "یادگیری ماشین<br>\n",
    "<font color=2565AE size=5>\n",
    "دانشکده مهندسی صنایع<br>\n",
    "<font color=2565AE size=4>\n",
    "دکتر مهدی شریف زاده <br>\n",
    "<font  size=4>\n",
    "\n",
    "آئیریا محمدی\n",
    " <br>\n",
    "بهار 1402<br>\n",
    "\n",
    "<font color=3C99D size=5>\n",
    "تمرین عملی 1\n",
    "<br>\n",
    "سوال 3\n",
    "- چاقی بدن\n",
    "<br>\n",
    "40 نمره\n",
    "    \n",
    "    \n",
    "____\n"
   ]
  },
  {
   "attachments": {},
   "cell_type": "markdown",
   "id": "5e85f16a",
   "metadata": {},
   "source": [
    "### Full Name : Parsa Bakhtiari\n",
    "\n",
    "### Student Number : 97104118\n",
    "\n",
    "---\n"
   ]
  },
  {
   "attachments": {},
   "cell_type": "markdown",
   "id": "ac560d39",
   "metadata": {},
   "source": [
    "<div dir=\"rtl\" style=\"font-size:16px;\">\n",
    "<font face=\"B Yekan\">\n",
    "فایل bodyfat.csv شامل اطلاعات چربی بدن 252 نفر است\n",
    "</div>"
   ]
  },
  {
   "attachments": {},
   "cell_type": "markdown",
   "id": "ec5c2f08",
   "metadata": {},
   "source": [
    "# Libraries"
   ]
  },
  {
   "cell_type": "code",
   "execution_count": 2,
   "id": "e104a64b",
   "metadata": {},
   "outputs": [],
   "source": [
    "import numpy as np\n",
    "import pandas as pd\n",
    "from sklearn.linear_model import LinearRegression\n",
    "from sklearn.linear_model import Lasso\n",
    "from sklearn.linear_model import Ridge\n",
    "\n",
    "from sklearn.model_selection import GridSearchCV\n",
    "from sklearn.model_selection import train_test_split\n",
    "\n",
    "from sklearn.preprocessing import StandardScaler\n",
    "from sklearn.metrics import mean_squared_error\n",
    "# add what you want"
   ]
  },
  {
   "attachments": {},
   "cell_type": "markdown",
   "id": "437f821b",
   "metadata": {},
   "source": [
    "# Load data"
   ]
  },
  {
   "cell_type": "code",
   "execution_count": 3,
   "id": "adfff8da",
   "metadata": {},
   "outputs": [],
   "source": [
    "#TODO\n",
    "df_base = pd.read_csv('bodyfat.csv')"
   ]
  },
  {
   "attachments": {},
   "cell_type": "markdown",
   "id": "5de92e51",
   "metadata": {},
   "source": [
    "#  Lasso vs Ridge (40 points)"
   ]
  },
  {
   "attachments": {},
   "cell_type": "markdown",
   "id": "5614eb34",
   "metadata": {},
   "source": [
    "<div dir=\"rtl\" style=\"font-size:16px;\">\n",
    "<font face=\"B Yekan\">\n",
    " یک ستون دلخواه را به عنوان هدف انتخاب کنید و سپس بهترین هایپرپارامتر را برای مدل‌های \n",
    "ridge \n",
    "و\n",
    "lasso \n",
    "پیدا کنید و دقت آن‌ها را مقایسه کنید\n",
    "\n",
    "</div>"
   ]
  },
  {
   "cell_type": "code",
   "execution_count": 4,
   "id": "db0744ee",
   "metadata": {},
   "outputs": [],
   "source": [
    "# Our objective is to predict density.\n",
    "train_set, test_set = train_test_split(df_base, test_size=.3, random_state= 42)\n",
    "def XY_spliter (dframe):\n",
    "    return dframe.drop('Density', axis = 1), dframe['Density'] \n",
    "train_X, train_Y = XY_spliter(train_set)\n",
    "test_X, test_Y = XY_spliter(test_set)\n"
   ]
  },
  {
   "cell_type": "code",
   "execution_count": 5,
   "id": "3c8bc659",
   "metadata": {},
   "outputs": [
    {
     "name": "stdout",
     "output_type": "stream",
     "text": [
      "Best hyperparameters:  {'alpha': 100}\n",
      "Best mean squared error:  1.3431291120592979e-05\n",
      "Test mean squared error:  2.0224809403458673e-06\n"
     ]
    }
   ],
   "source": [
    "param_grid = {'alpha': [0.001, 0.01, 0.1, 1, 10, 100, 1000, 10000]}\n",
    "ridge = Ridge()\n",
    "grid_search_ridge = GridSearchCV(ridge, param_grid, cv=5, scoring='neg_mean_squared_error')\n",
    "grid_search_ridge.fit(train_X, train_Y)\n",
    "print(\"Best hyperparameters: \", grid_search_ridge.best_params_)\n",
    "print(\"Best mean squared error: \", -grid_search_ridge.best_score_)\n",
    "y_pred = grid_search_ridge.predict(test_X)\n",
    "test_mse = mean_squared_error(test_Y, y_pred)\n",
    "print(\"Test mean squared error: \", test_mse)"
   ]
  },
  {
   "cell_type": "code",
   "execution_count": 6,
   "id": "2f77623c",
   "metadata": {},
   "outputs": [
    {
     "name": "stdout",
     "output_type": "stream",
     "text": [
      "Best hyperparameters:  {'alpha': 0.001}\n",
      "Best mean squared error:  1.24666675877841e-05\n",
      "Test mean squared error:  1.5596098687730123e-06\n"
     ]
    }
   ],
   "source": [
    "lasso = Lasso()\n",
    "param_grid = {'alpha': [0.0001, 0.0001, 0.001, 0.01, 0.1, 1, 10, 100]}\n",
    "grid_search_lasso = GridSearchCV(lasso, param_grid, cv=5 , scoring='neg_mean_squared_error')\n",
    "grid_search_lasso.fit(train_X, train_Y)\n",
    "print(\"Best hyperparameters: \", grid_search_lasso.best_params_)\n",
    "print(\"Best mean squared error: \", -grid_search_lasso.best_score_)\n",
    "y_pred_lasso = grid_search_lasso.predict(test_X)\n",
    "test_mse_lasso = mean_squared_error(test_Y, y_pred_lasso)\n",
    "print(\"Test mean squared error: \", test_mse_lasso)\n"
   ]
  },
  {
   "attachments": {},
   "cell_type": "markdown",
   "id": "4e54cf07",
   "metadata": {},
   "source": [
    "<div dir=\"rtl\" style=\"font-size:16px;\">\n",
    "<font face=\"B Yekan\">\n",
    "با توجه به نتایج بدست آمده هم بر روی داده های آموزش و هم بر روی داده های تست الگوریتم LASSO عملکرد بهتری دارد.\n",
    "</div>"
   ]
  }
 ],
 "metadata": {
  "kernelspec": {
   "display_name": "Python 3",
   "language": "python",
   "name": "python3"
  },
  "language_info": {
   "codemirror_mode": {
    "name": "ipython",
    "version": 3
   },
   "file_extension": ".py",
   "mimetype": "text/x-python",
   "name": "python",
   "nbconvert_exporter": "python",
   "pygments_lexer": "ipython3",
   "version": "3.10.5"
  },
  "toc": {
   "base_numbering": 1,
   "nav_menu": {},
   "number_sections": true,
   "sideBar": true,
   "skip_h1_title": false,
   "title_cell": "Table of Contents",
   "title_sidebar": "Contents",
   "toc_cell": false,
   "toc_position": {},
   "toc_section_display": true,
   "toc_window_display": false
  },
  "varInspector": {
   "cols": {
    "lenName": 16,
    "lenType": 16,
    "lenVar": 40
   },
   "kernels_config": {
    "python": {
     "delete_cmd_postfix": "",
     "delete_cmd_prefix": "del ",
     "library": "var_list.py",
     "varRefreshCmd": "print(var_dic_list())"
    },
    "r": {
     "delete_cmd_postfix": ") ",
     "delete_cmd_prefix": "rm(",
     "library": "var_list.r",
     "varRefreshCmd": "cat(var_dic_list()) "
    }
   },
   "types_to_exclude": [
    "module",
    "function",
    "builtin_function_or_method",
    "instance",
    "_Feature"
   ],
   "window_display": false
  },
  "vscode": {
   "interpreter": {
    "hash": "ec21d020fdb83eb2829808c0505e5b33037481656f73549d7749c38a50b0ef23"
   }
  }
 },
 "nbformat": 4,
 "nbformat_minor": 5
}
