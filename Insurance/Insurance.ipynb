{
 "cells": [
  {
   "attachments": {},
   "cell_type": "markdown",
   "id": "5902c1f3",
   "metadata": {},
   "source": [
    "<div dir=rtl align=center>\n",
    "\n",
    "<img src='https://upload.wikimedia.org/wikipedia/fa/thumb/a/a9/Sharif_logo.svg/626px-Sharif_logo.svg.png?20110526112825' alt=\"SUT logo\" width=200 height=200 align=center  >\n",
    "<br>\n",
    "<font face=\"B Yekan\">\n",
    "<font color=0F5298 size=7>\n",
    "یادگیری ماشین<br>\n",
    "<font color=2565AE size=5>\n",
    "دانشکده مهندسی صنایع<br>\n",
    "<font color=2565AE size=4>\n",
    "دکتر مهدی شریف زاده <br>\n",
    "<font  size=4>\n",
    "\n",
    "سعید زواشکیانی\n",
    " <br>\n",
    "بهار 1402<br>\n",
    "\n",
    "<font color=3C99D size=5>\n",
    "تمرین عملی 1\n",
    "<br>\n",
    "سوال 2\n",
    "- هزینه سالانه بیمه درمانی\n",
    "<br>\n",
    "80 نمره\n",
    "    \n",
    "    \n",
    "____\n"
   ]
  },
  {
   "attachments": {},
   "cell_type": "markdown",
   "id": "5e85f16a",
   "metadata": {},
   "source": [
    "### Full Name : Parsa Bakhtiari\n",
    "\n",
    "### Student Number : 97104118\n",
    "\n",
    "---\n"
   ]
  },
  {
   "attachments": {},
   "cell_type": "markdown",
   "id": "ac560d39",
   "metadata": {},
   "source": [
    "<div dir=\"rtl\" style=\"font-size:16px;\">\n",
    "<font face=\"B Yekan\">\n",
    "فایل insurance.csv شامل ۶ ویژگی (شامل متغیرها عددی و گروهی (categorical)) از افراد مختلف است که هزینه سالانه بیمه درمانی این افراد (ستون charges بر حسب هزار دلار) در این فایل ثبت شده‌است. هدف، تخمین این هزینه با استفاده از ۶ ویژگی است.\n",
    "\n",
    "</div>"
   ]
  },
  {
   "attachments": {},
   "cell_type": "markdown",
   "id": "ec5c2f08",
   "metadata": {},
   "source": [
    "# Libraries"
   ]
  },
  {
   "cell_type": "code",
   "execution_count": 7,
   "id": "e104a64b",
   "metadata": {},
   "outputs": [],
   "source": [
    "import numpy as np\n",
    "import pandas as pd\n",
    "from sklearn.model_selection import train_test_split\n",
    "from sklearn.linear_model import LinearRegression\n",
    "from sklearn.metrics import mean_squared_error\n",
    "from sklearn.preprocessing import StandardScaler\n",
    "from sklearn.pipeline import Pipeline\n",
    "from sklearn.compose import ColumnTransformer\n",
    "from sklearn.preprocessing import OneHotEncoder\n",
    "from sklearn.preprocessing import OrdinalEncoder\n",
    "# add what you want"
   ]
  },
  {
   "attachments": {},
   "cell_type": "markdown",
   "id": "437f821b",
   "metadata": {},
   "source": [
    "# Load data"
   ]
  },
  {
   "cell_type": "code",
   "execution_count": 8,
   "id": "adfff8da",
   "metadata": {},
   "outputs": [],
   "source": [
    "#TODO\n",
    "df_base = pd.read_csv(\"insurance.csv\")\n",
    "train_set, test_set = train_test_split(df_base, test_size=0.3, random_state=42)\n"
   ]
  },
  {
   "attachments": {},
   "cell_type": "markdown",
   "id": "5de92e51",
   "metadata": {},
   "source": [
    "# A. Averaging (20 points)"
   ]
  },
  {
   "attachments": {},
   "cell_type": "markdown",
   "id": "5614eb34",
   "metadata": {},
   "source": [
    "<div dir=\"rtl\" style=\"font-size:16px;\">\n",
    "<font face=\"B Yekan\">\n",
    "\n",
    "با استفاده از داده‌های آموزش فقط با میانگین‌گیری از خروجی تخمین هزینه را انجام دهید و خطای تست را در این حالت محاسبه کنید.\n",
    "\n",
    "</div>"
   ]
  },
  {
   "cell_type": "code",
   "execution_count": 9,
   "id": "db0744ee",
   "metadata": {},
   "outputs": [
    {
     "name": "stdout",
     "output_type": "stream",
     "text": [
      "146.75486248250903\n"
     ]
    }
   ],
   "source": [
    "#TODO\n",
    "average_value = np.average(train_set['charges'].values)\n",
    "test_errors = mean_squared_error(test_set['charges'], np.full((len(test_set['charges'])), average_value))\n",
    "print(test_errors)"
   ]
  },
  {
   "attachments": {},
   "cell_type": "markdown",
   "id": "6abe3cc3",
   "metadata": {},
   "source": [
    "# B. Linear regression (40 points)"
   ]
  },
  {
   "attachments": {},
   "cell_type": "markdown",
   "id": "b9a667fd",
   "metadata": {},
   "source": [
    "<div dir=\"rtl\" style=\"font-size:16px;\">\n",
    "<font face=\"B Yekan\">\n",
    "یک مدل رگرسیون خطی شامل تمام ویژگی‌ها آموزش دهید. خطای آموزش و تست را گزارش کنید و نتایج را با بخش الف مقایسه کنید. توجه کنید که دادگان حاوی چند ویژگی گروهی هستند که برای استفاده از آن لازم است کدگذاری (encoding) عددی مناسب به کار ببرید. نحوه انجام این کار و نتیجه آن را بیان کنید.\n",
    "</div>"
   ]
  },
  {
   "cell_type": "code",
   "execution_count": 10,
   "id": "152f456c",
   "metadata": {},
   "outputs": [
    {
     "data": {
      "text/plain": [
       "<bound method NDFrame.head of       age     bmi  children  charges  sex_male  smoker_yes  region_northwest  \\\n",
       "0      19  27.900         0   16.885         0           1                 0   \n",
       "1      18  33.770         1    1.726         1           0                 0   \n",
       "2      28  33.000         3    4.449         1           0                 0   \n",
       "3      33  22.705         0   21.984         1           0                 1   \n",
       "4      32  28.880         0    3.867         1           0                 1   \n",
       "...   ...     ...       ...      ...       ...         ...               ...   \n",
       "1333   50  30.970         3   10.601         1           0                 1   \n",
       "1334   18  31.920         0    2.206         0           0                 0   \n",
       "1335   18  36.850         0    1.630         0           0                 0   \n",
       "1336   21  25.800         0    2.008         0           0                 0   \n",
       "1337   61  29.070         0   29.141         0           1                 1   \n",
       "\n",
       "      region_southeast  region_southwest  \n",
       "0                    0                 1  \n",
       "1                    1                 0  \n",
       "2                    1                 0  \n",
       "3                    0                 0  \n",
       "4                    0                 0  \n",
       "...                ...               ...  \n",
       "1333                 0                 0  \n",
       "1334                 0                 0  \n",
       "1335                 1                 0  \n",
       "1336                 0                 1  \n",
       "1337                 0                 0  \n",
       "\n",
       "[1338 rows x 9 columns]>"
      ]
     },
     "execution_count": 10,
     "metadata": {},
     "output_type": "execute_result"
    }
   ],
   "source": [
    "# TODO\n",
    "df_reform = pd.get_dummies(\n",
    "    df_base, columns=['sex', 'smoker', 'region'], drop_first=True)\n",
    "df_reform.head"
   ]
  },
  {
   "cell_type": "code",
   "execution_count": 11,
   "id": "9abfcbf0",
   "metadata": {},
   "outputs": [
    {
     "data": {
      "text/html": [
       "<style>#sk-container-id-1 {color: black;background-color: white;}#sk-container-id-1 pre{padding: 0;}#sk-container-id-1 div.sk-toggleable {background-color: white;}#sk-container-id-1 label.sk-toggleable__label {cursor: pointer;display: block;width: 100%;margin-bottom: 0;padding: 0.3em;box-sizing: border-box;text-align: center;}#sk-container-id-1 label.sk-toggleable__label-arrow:before {content: \"▸\";float: left;margin-right: 0.25em;color: #696969;}#sk-container-id-1 label.sk-toggleable__label-arrow:hover:before {color: black;}#sk-container-id-1 div.sk-estimator:hover label.sk-toggleable__label-arrow:before {color: black;}#sk-container-id-1 div.sk-toggleable__content {max-height: 0;max-width: 0;overflow: hidden;text-align: left;background-color: #f0f8ff;}#sk-container-id-1 div.sk-toggleable__content pre {margin: 0.2em;color: black;border-radius: 0.25em;background-color: #f0f8ff;}#sk-container-id-1 input.sk-toggleable__control:checked~div.sk-toggleable__content {max-height: 200px;max-width: 100%;overflow: auto;}#sk-container-id-1 input.sk-toggleable__control:checked~label.sk-toggleable__label-arrow:before {content: \"▾\";}#sk-container-id-1 div.sk-estimator input.sk-toggleable__control:checked~label.sk-toggleable__label {background-color: #d4ebff;}#sk-container-id-1 div.sk-label input.sk-toggleable__control:checked~label.sk-toggleable__label {background-color: #d4ebff;}#sk-container-id-1 input.sk-hidden--visually {border: 0;clip: rect(1px 1px 1px 1px);clip: rect(1px, 1px, 1px, 1px);height: 1px;margin: -1px;overflow: hidden;padding: 0;position: absolute;width: 1px;}#sk-container-id-1 div.sk-estimator {font-family: monospace;background-color: #f0f8ff;border: 1px dotted black;border-radius: 0.25em;box-sizing: border-box;margin-bottom: 0.5em;}#sk-container-id-1 div.sk-estimator:hover {background-color: #d4ebff;}#sk-container-id-1 div.sk-parallel-item::after {content: \"\";width: 100%;border-bottom: 1px solid gray;flex-grow: 1;}#sk-container-id-1 div.sk-label:hover label.sk-toggleable__label {background-color: #d4ebff;}#sk-container-id-1 div.sk-serial::before {content: \"\";position: absolute;border-left: 1px solid gray;box-sizing: border-box;top: 0;bottom: 0;left: 50%;z-index: 0;}#sk-container-id-1 div.sk-serial {display: flex;flex-direction: column;align-items: center;background-color: white;padding-right: 0.2em;padding-left: 0.2em;position: relative;}#sk-container-id-1 div.sk-item {position: relative;z-index: 1;}#sk-container-id-1 div.sk-parallel {display: flex;align-items: stretch;justify-content: center;background-color: white;position: relative;}#sk-container-id-1 div.sk-item::before, #sk-container-id-1 div.sk-parallel-item::before {content: \"\";position: absolute;border-left: 1px solid gray;box-sizing: border-box;top: 0;bottom: 0;left: 50%;z-index: -1;}#sk-container-id-1 div.sk-parallel-item {display: flex;flex-direction: column;z-index: 1;position: relative;background-color: white;}#sk-container-id-1 div.sk-parallel-item:first-child::after {align-self: flex-end;width: 50%;}#sk-container-id-1 div.sk-parallel-item:last-child::after {align-self: flex-start;width: 50%;}#sk-container-id-1 div.sk-parallel-item:only-child::after {width: 0;}#sk-container-id-1 div.sk-dashed-wrapped {border: 1px dashed gray;margin: 0 0.4em 0.5em 0.4em;box-sizing: border-box;padding-bottom: 0.4em;background-color: white;}#sk-container-id-1 div.sk-label label {font-family: monospace;font-weight: bold;display: inline-block;line-height: 1.2em;}#sk-container-id-1 div.sk-label-container {text-align: center;}#sk-container-id-1 div.sk-container {/* jupyter's `normalize.less` sets `[hidden] { display: none; }` but bootstrap.min.css set `[hidden] { display: none !important; }` so we also need the `!important` here to be able to override the default hidden behavior on the sphinx rendered scikit-learn.org. See: https://github.com/scikit-learn/scikit-learn/issues/21755 */display: inline-block !important;position: relative;}#sk-container-id-1 div.sk-text-repr-fallback {display: none;}</style><div id=\"sk-container-id-1\" class=\"sk-top-container\"><div class=\"sk-text-repr-fallback\"><pre>LinearRegression()</pre><b>In a Jupyter environment, please rerun this cell to show the HTML representation or trust the notebook. <br />On GitHub, the HTML representation is unable to render, please try loading this page with nbviewer.org.</b></div><div class=\"sk-container\" hidden><div class=\"sk-item\"><div class=\"sk-estimator sk-toggleable\"><input class=\"sk-toggleable__control sk-hidden--visually\" id=\"sk-estimator-id-1\" type=\"checkbox\" checked><label for=\"sk-estimator-id-1\" class=\"sk-toggleable__label sk-toggleable__label-arrow\">LinearRegression</label><div class=\"sk-toggleable__content\"><pre>LinearRegression()</pre></div></div></div></div></div>"
      ],
      "text/plain": [
       "LinearRegression()"
      ]
     },
     "execution_count": 11,
     "metadata": {},
     "output_type": "execute_result"
    }
   ],
   "source": [
    "train_set_reform, test_set_reform = train_test_split(df_reform, test_size=0.3, random_state=42)\n",
    "lin_reg = LinearRegression()\n",
    "lin_reg.fit(train_set_reform.drop('charges', axis=1), train_set_reform['charges'])\n"
   ]
  },
  {
   "cell_type": "code",
   "execution_count": 12,
   "id": "cb9ae6f4",
   "metadata": {},
   "outputs": [
    {
     "name": "stderr",
     "output_type": "stream",
     "text": [
      "C:\\Users\\parsa\\AppData\\Roaming\\Python\\Python310\\site-packages\\sklearn\\base.py:420: UserWarning: X does not have valid feature names, but LinearRegression was fitted with feature names\n",
      "  warnings.warn(\n"
     ]
    },
    {
     "data": {
      "text/plain": [
       "array([25.02727574])"
      ]
     },
     "execution_count": 12,
     "metadata": {},
     "output_type": "execute_result"
    }
   ],
   "source": [
    "lin_reg.predict(np.array([[19, 27.900, 0, 0, 1, 0, 0, 1]]))"
   ]
  },
  {
   "cell_type": "code",
   "execution_count": 13,
   "id": "d2250f6c",
   "metadata": {},
   "outputs": [
    {
     "name": "stdout",
     "output_type": "stream",
     "text": [
      "37.730673288125395\n",
      "33.78021054300853\n"
     ]
    }
   ],
   "source": [
    "train_errors = mean_squared_error(train_set_reform['charges'], lin_reg.predict(train_set_reform.drop('charges', axis=1)))\n",
    "test_errors = mean_squared_error(test_set_reform['charges'], lin_reg.predict(test_set_reform.drop('charges', axis=1)))\n",
    "print(train_errors)\n",
    "print(test_errors)"
   ]
  },
  {
   "attachments": {},
   "cell_type": "markdown",
   "id": "d7b961ca",
   "metadata": {},
   "source": [
    "<div dir=\"rtl\" style=\"font-size:16px;\">\n",
    "<font face=\"B Yekan\">\n",
    "با الگوریتم one Hot به جای داده های کتگوریکال داده عددی وارد دیتا فریم میکنیم. دلیل این انتخاب کم کردن خطای پیش بینی در داده region بود زیرا بیش از دو مقدار داشت. داده ها استاندارد سازی نشده اند. با توجه به این مسئله مقدار خطای آموزش 33.7 و مقدار خطایی تست 33.8 شده است.\n",
    "</div>"
   ]
  }
 ],
 "metadata": {
  "kernelspec": {
   "display_name": "Python 3",
   "language": "python",
   "name": "python3"
  },
  "language_info": {
   "codemirror_mode": {
    "name": "ipython",
    "version": 3
   },
   "file_extension": ".py",
   "mimetype": "text/x-python",
   "name": "python",
   "nbconvert_exporter": "python",
   "pygments_lexer": "ipython3",
   "version": "3.10.5"
  },
  "toc": {
   "base_numbering": 1,
   "nav_menu": {},
   "number_sections": true,
   "sideBar": true,
   "skip_h1_title": false,
   "title_cell": "Table of Contents",
   "title_sidebar": "Contents",
   "toc_cell": false,
   "toc_position": {},
   "toc_section_display": true,
   "toc_window_display": false
  },
  "varInspector": {
   "cols": {
    "lenName": 16,
    "lenType": 16,
    "lenVar": 40
   },
   "kernels_config": {
    "python": {
     "delete_cmd_postfix": "",
     "delete_cmd_prefix": "del ",
     "library": "var_list.py",
     "varRefreshCmd": "print(var_dic_list())"
    },
    "r": {
     "delete_cmd_postfix": ") ",
     "delete_cmd_prefix": "rm(",
     "library": "var_list.r",
     "varRefreshCmd": "cat(var_dic_list()) "
    }
   },
   "types_to_exclude": [
    "module",
    "function",
    "builtin_function_or_method",
    "instance",
    "_Feature"
   ],
   "window_display": false
  },
  "vscode": {
   "interpreter": {
    "hash": "ec21d020fdb83eb2829808c0505e5b33037481656f73549d7749c38a50b0ef23"
   }
  }
 },
 "nbformat": 4,
 "nbformat_minor": 5
}
